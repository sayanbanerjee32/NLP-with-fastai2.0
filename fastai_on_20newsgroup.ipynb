{
  "nbformat": 4,
  "nbformat_minor": 0,
  "metadata": {
    "colab": {
      "name": "fastai_on_20newsgroup.ipynb",
      "provenance": [],
      "collapsed_sections": [],
      "authorship_tag": "ABX9TyMkTepDQn55LKi68qJfKnZC",
      "include_colab_link": true
    },
    "kernelspec": {
      "name": "python3",
      "display_name": "Python 3"
    },
    "accelerator": "GPU"
  },
  "cells": [
    {
      "cell_type": "markdown",
      "metadata": {
        "id": "view-in-github",
        "colab_type": "text"
      },
      "source": [
        "<a href=\"https://colab.research.google.com/github/sayanbanerjee32/NLP-with-fastai2.0/blob/main/fastai_on_20newsgroup.ipynb\" target=\"_parent\"><img src=\"https://colab.research.google.com/assets/colab-badge.svg\" alt=\"Open In Colab\"/></a>"
      ]
    },
    {
      "cell_type": "markdown",
      "metadata": {
        "id": "9zorTnNqzT1L"
      },
      "source": [
        "# Install fastai 2 version\n",
        "\n",
        "uncomment if required"
      ]
    },
    {
      "cell_type": "code",
      "metadata": {
        "id": "URoMudtzk2Pj"
      },
      "source": [
        "#!pip install fastai --upgrade"
      ],
      "execution_count": 1,
      "outputs": []
    },
    {
      "cell_type": "markdown",
      "metadata": {
        "id": "7F2urjIfzdwX"
      },
      "source": [
        "# Data\n",
        "Import data"
      ]
    },
    {
      "cell_type": "code",
      "metadata": {
        "id": "UUT-Y63_-iHz"
      },
      "source": [
        "from sklearn.datasets import fetch_20newsgroups\n",
        "import pandas as pd"
      ],
      "execution_count": 2,
      "outputs": []
    },
    {
      "cell_type": "code",
      "metadata": {
        "id": "LYmRfzu1-sBe",
        "outputId": "87948729-a81b-4386-f8a8-4098afa1e115",
        "colab": {
          "base_uri": "https://localhost:8080/"
        }
      },
      "source": [
        "def twenty_newsgroup_to_df(data_set = 'train'):\n",
        "    newsgroups_train = fetch_20newsgroups(subset=data_set, \n",
        "                                          remove=('headers', 'footers',\n",
        "                                                  'quotes'))\n",
        "\n",
        "    df = pd.DataFrame([newsgroups_train.data, newsgroups_train.target.tolist()]).T\n",
        "    df.columns = ['text', 'target']\n",
        "\n",
        "    targets = pd.DataFrame(newsgroups_train.target_names)\n",
        "    targets.columns = ['title']\n",
        "\n",
        "    train = pd.merge(df, targets, left_on='target', right_index=True)\n",
        "    #out['date'] = pd.to_datetime('now')\n",
        "    #out.to_csv('20_newsgroup.csv')\n",
        "    return train\n",
        "\n",
        "\n",
        "train_data_df = twenty_newsgroup_to_df('train')\n",
        "test_data_df = twenty_newsgroup_to_df('test')"
      ],
      "execution_count": 3,
      "outputs": [
        {
          "output_type": "stream",
          "text": [
            "Downloading 20news dataset. This may take a few minutes.\n",
            "Downloading dataset from https://ndownloader.figshare.com/files/5975967 (14 MB)\n"
          ],
          "name": "stderr"
        }
      ]
    },
    {
      "cell_type": "code",
      "metadata": {
        "id": "osYf1dOy-_pi",
        "outputId": "6c316d7c-cb90-428b-ff8f-f7b467a767ea",
        "colab": {
          "base_uri": "https://localhost:8080/"
        }
      },
      "source": [
        "train_data_df.info(),test_data_df.info()"
      ],
      "execution_count": 4,
      "outputs": [
        {
          "output_type": "stream",
          "text": [
            "<class 'pandas.core.frame.DataFrame'>\n",
            "Int64Index: 11314 entries, 0 to 11302\n",
            "Data columns (total 3 columns):\n",
            " #   Column  Non-Null Count  Dtype \n",
            "---  ------  --------------  ----- \n",
            " 0   text    11314 non-null  object\n",
            " 1   target  11314 non-null  object\n",
            " 2   title   11314 non-null  object\n",
            "dtypes: object(3)\n",
            "memory usage: 353.6+ KB\n",
            "<class 'pandas.core.frame.DataFrame'>\n",
            "Int64Index: 7532 entries, 0 to 7519\n",
            "Data columns (total 3 columns):\n",
            " #   Column  Non-Null Count  Dtype \n",
            "---  ------  --------------  ----- \n",
            " 0   text    7532 non-null   object\n",
            " 1   target  7532 non-null   object\n",
            " 2   title   7532 non-null   object\n",
            "dtypes: object(3)\n",
            "memory usage: 235.4+ KB\n"
          ],
          "name": "stdout"
        },
        {
          "output_type": "execute_result",
          "data": {
            "text/plain": [
              "(None, None)"
            ]
          },
          "metadata": {
            "tags": []
          },
          "execution_count": 4
        }
      ]
    },
    {
      "cell_type": "markdown",
      "metadata": {
        "id": "gcdhM_YAzlRn"
      },
      "source": [
        "Number of classes in train and test"
      ]
    },
    {
      "cell_type": "code",
      "metadata": {
        "id": "NwlarMB0JWuA",
        "outputId": "c44daa82-d1d9-49aa-f507-f683a973b431",
        "colab": {
          "base_uri": "https://localhost:8080/"
        }
      },
      "source": [
        "len(train_data_df.target.unique()),len(train_data_df.title.unique())"
      ],
      "execution_count": 5,
      "outputs": [
        {
          "output_type": "execute_result",
          "data": {
            "text/plain": [
              "(20, 20)"
            ]
          },
          "metadata": {
            "tags": []
          },
          "execution_count": 5
        }
      ]
    },
    {
      "cell_type": "code",
      "metadata": {
        "id": "iA6xrxImJl8s",
        "outputId": "a2fda6a8-15e5-42a8-9c46-40c276f933e9",
        "colab": {
          "base_uri": "https://localhost:8080/"
        }
      },
      "source": [
        "len(test_data_df.target.unique()),len(test_data_df.title.unique())"
      ],
      "execution_count": 6,
      "outputs": [
        {
          "output_type": "execute_result",
          "data": {
            "text/plain": [
              "(20, 20)"
            ]
          },
          "metadata": {
            "tags": []
          },
          "execution_count": 6
        }
      ]
    },
    {
      "cell_type": "markdown",
      "metadata": {
        "id": "oWvmFH6wzrc6"
      },
      "source": [
        "# Initial model using transfer learning"
      ]
    },
    {
      "cell_type": "code",
      "metadata": {
        "id": "G4hJPHJ3_Alm"
      },
      "source": [
        "from fastai.text.all import *"
      ],
      "execution_count": 7,
      "outputs": []
    },
    {
      "cell_type": "markdown",
      "metadata": {
        "id": "XV9pEAU1zwwg"
      },
      "source": [
        "## create data loader from data frame"
      ]
    },
    {
      "cell_type": "markdown",
      "metadata": {
        "id": "FQOw5yEQ1QYc"
      },
      "source": [
        "Defining a seed for reproducible results"
      ]
    },
    {
      "cell_type": "code",
      "metadata": {
        "id": "P7FQLcZZ1DeD"
      },
      "source": [
        "def random_seed(seed_value, use_cuda):\n",
        "    np.random.seed(seed_value) # cpu vars\n",
        "    torch.manual_seed(seed_value) # cpu  vars\n",
        "    random.seed(seed_value) # Python\n",
        "    if use_cuda: \n",
        "        torch.cuda.manual_seed(seed_value)\n",
        "        torch.cuda.manual_seed_all(seed_value) # gpu vars\n",
        "        torch.backends.cudnn.deterministic = True  #needed\n",
        "        torch.backends.cudnn.benchmark = False"
      ],
      "execution_count": 16,
      "outputs": []
    },
    {
      "cell_type": "code",
      "metadata": {
        "id": "0gBe5DlXlqor",
        "outputId": "8ee9af7d-baf3-4a61-aef6-a6716e95f98c",
        "colab": {
          "base_uri": "https://localhost:8080/",
          "height": 329
        }
      },
      "source": [
        "random_seed(1, True)\n",
        "dls = TextDataLoaders.from_df(train_data_df, text_col='text', label_col='title')\n",
        "dls.show_batch(max_n=3)"
      ],
      "execution_count": 17,
      "outputs": [
        {
          "output_type": "display_data",
          "data": {
            "text/html": [
              ""
            ],
            "text/plain": [
              "<IPython.core.display.HTML object>"
            ]
          },
          "metadata": {
            "tags": []
          }
        },
        {
          "output_type": "display_data",
          "data": {
            "text/html": [
              "<table border=\"1\" class=\"dataframe\">\n",
              "  <thead>\n",
              "    <tr style=\"text-align: right;\">\n",
              "      <th></th>\n",
              "      <th>text</th>\n",
              "      <th>category</th>\n",
              "    </tr>\n",
              "  </thead>\n",
              "  <tbody>\n",
              "    <tr>\n",
              "      <th>0</th>\n",
              "      <td>xxbos xxmaj due to the resolution and size it is in 14 parts . \\n\\n xxmaj this is a uuencoded bitmap . xxunk 256 colors . \\n xxmaj the picture is a xxunk xxunk on a desert with blue sky background . \\n xxmaj the size is just right for centered wallpaper on a 1024x768 display \\n because it leaves a border at the bottom just big enough for icons \\n to fit in without being on top of the picture . xxmaj xxunk image \\n quality and resolution - i have not seen much better . \\n\\n xxmaj for those of you who have n't worked with xxunk image files , here \\n is how to put it back together . \\n\\t 1 . save the 14 parts to 14 individual files \\n\\t 2 . use a text editor to remove the header and xxunk \\n\\t▁ in each file</td>\n",
              "      <td>comp.os.ms-windows.misc</td>\n",
              "    </tr>\n",
              "    <tr>\n",
              "      <th>1</th>\n",
              "      <td>xxbos xxrep 10 - cut here xxrep 10 - part 02 / 03 \\n xxup xxunk k / xxup xxunk ) xxunk \\n xxup xxunk # xxunk [ ) ' xxunk / $ xxunk ? ' # xxup xxunk / h # xxup c ' ! \\ xxunk \\n xxup xxunk = xxunk _ . * xxup xxunk &gt; o \\ xxunk \\n xxup xxunk ; \\ xxunk \\ &lt; xxunk , z = k ( / xxup sn = q \\n xxup xxunk ' \\ &gt; xxunk _ ' / xxup xxunk = xxunk &lt; xxunk &gt; i \\n xxup xxunk \\ xxunk \" ' # xxunk \\n xxup xxunk / xxunk : p$ / 1q &lt; xxunk / % xxunk / % h &lt; xxunk \\n xxup xxunk , xxunk \" / xxup xxunk xxup xxunk : ul xxunk &gt; cv , pj 4 \\n xxup xxunk \\</td>\n",
              "      <td>comp.sys.ibm.pc.hardware</td>\n",
              "    </tr>\n",
              "    <tr>\n",
              "      <th>2</th>\n",
              "      <td>xxbos xxmaj archive - name : graphics / resources - list / part1 \\n xxmaj last - modified : 1993 / 04 / 17 \\n\\n\\n xxmaj computer xxmaj graphics xxmaj resource xxmaj listing : xxup weekly xxup posting [ xxup part 1 / 3 ] \\n▁ xxrep 51 = \\n xxmaj last xxmaj change : 17 xxmaj april 1993 \\n\\n xxmaj many faqs , including this xxmaj listing , are available on the archive site \\n pit-manager.mit.edu ( alias rtfm.mit.edu ) [ 18.172.1.27 ] in the directory \\n pub / usenet / news.answers . xxmaj the name under which a xxup faq is archived appears \\n in the xxmaj archive - name line at the top of the article . \\n xxmaj this xxup faq is archived as graphics / resources - list / part[1 - 3 ] \\n\\n xxmaj there 's a mail server on that machine . xxmaj</td>\n",
              "      <td>sci.crypt</td>\n",
              "    </tr>\n",
              "  </tbody>\n",
              "</table>"
            ],
            "text/plain": [
              "<IPython.core.display.HTML object>"
            ]
          },
          "metadata": {
            "tags": []
          }
        }
      ]
    },
    {
      "cell_type": "markdown",
      "metadata": {
        "id": "NWVY8rdMz4Rk"
      },
      "source": [
        "## create text learner\n",
        "\n",
        "use F1 score as metrics and find optimum learning rate"
      ]
    },
    {
      "cell_type": "code",
      "metadata": {
        "id": "JxnbHI0Rj1hH",
        "outputId": "636a5106-4014-40a7-b159-a298020acf58",
        "colab": {
          "base_uri": "https://localhost:8080/",
          "height": 300
        }
      },
      "source": [
        "#dls = TextDataLoaders.from_folder(untar_data(URLs.IMDB), valid='test')\n",
        "fscore = F1Score(average='weighted')\n",
        "ls_fucn = CrossEntropyLossFlat()\n",
        "learn = text_classifier_learner(dls, AWD_LSTM, drop_mult=0.5, \n",
        "                                loss_func = ls_fucn,\n",
        "                                metrics=[accuracy,fscore])\n",
        "#learn.fine_tune(2, 1e-2)\n",
        "learn.lr_find()"
      ],
      "execution_count": 18,
      "outputs": [
        {
          "output_type": "display_data",
          "data": {
            "text/html": [
              ""
            ],
            "text/plain": [
              "<IPython.core.display.HTML object>"
            ]
          },
          "metadata": {
            "tags": []
          }
        },
        {
          "output_type": "execute_result",
          "data": {
            "text/plain": [
              "SuggestedLRs(lr_min=1.0964782268274575e-05, lr_steep=9.120108734350652e-05)"
            ]
          },
          "metadata": {
            "tags": []
          },
          "execution_count": 18
        },
        {
          "output_type": "display_data",
          "data": {
            "image/png": "[encoded data removed]",
            "text/plain": [
              "<Figure size 432x288 with 1 Axes>"
            ]
          },
          "metadata": {
            "tags": [],
            "needs_background": "light"
          }
        }
      ]
    },
    {
      "cell_type": "markdown",
      "metadata": {
        "id": "N7p6rMMP2CoW"
      },
      "source": [
        "Tune the model with suggested learning rate that is min learning rate devided by 10."
      ]
    },
    {
      "cell_type": "code",
      "metadata": {
        "id": "IuKI8pzSOTqh",
        "outputId": "e9b73aff-5aec-4506-fac2-1d67fdac8744",
        "colab": {
          "base_uri": "https://localhost:8080/",
          "height": 80
        }
      },
      "source": [
        "learn.fit_one_cycle(1, 0.01) # min / 10"
      ],
      "execution_count": 20,
      "outputs": [
        {
          "output_type": "display_data",
          "data": {
            "text/html": [
              "<table border=\"1\" class=\"dataframe\">\n",
              "  <thead>\n",
              "    <tr style=\"text-align: left;\">\n",
              "      <th>epoch</th>\n",
              "      <th>train_loss</th>\n",
              "      <th>valid_loss</th>\n",
              "      <th>accuracy</th>\n",
              "      <th>f1_score</th>\n",
              "      <th>time</th>\n",
              "    </tr>\n",
              "  </thead>\n",
              "  <tbody>\n",
              "    <tr>\n",
              "      <td>0</td>\n",
              "      <td>nan</td>\n",
              "      <td>3.060148</td>\n",
              "      <td>0.047303</td>\n",
              "      <td>0.042331</td>\n",
              "      <td>01:07</td>\n",
              "    </tr>\n",
              "  </tbody>\n",
              "</table>"
            ],
            "text/plain": [
              "<IPython.core.display.HTML object>"
            ]
          },
          "metadata": {
            "tags": []
          }
        }
      ]
    },
    {
      "cell_type": "code",
      "metadata": {
        "id": "oXpX2wOkQEmk",
        "outputId": "5fafbf6f-44a8-4110-8186-28e38ce281cc",
        "colab": {
          "base_uri": "https://localhost:8080/",
          "height": 189
        }
      },
      "source": [
        "learn.fine_tune(5,0.01)"
      ],
      "execution_count": null,
      "outputs": [
        {
          "output_type": "display_data",
          "data": {
            "text/html": [
              "<table border=\"1\" class=\"dataframe\">\n",
              "  <thead>\n",
              "    <tr style=\"text-align: left;\">\n",
              "      <th>epoch</th>\n",
              "      <th>train_loss</th>\n",
              "      <th>valid_loss</th>\n",
              "      <th>accuracy</th>\n",
              "      <th>f1_score</th>\n",
              "      <th>time</th>\n",
              "    </tr>\n",
              "  </thead>\n",
              "  <tbody>\n",
              "    <tr>\n",
              "      <td>0</td>\n",
              "      <td>nan</td>\n",
              "      <td>3.060204</td>\n",
              "      <td>0.049514</td>\n",
              "      <td>0.043058</td>\n",
              "      <td>01:07</td>\n",
              "    </tr>\n",
              "  </tbody>\n",
              "</table>"
            ],
            "text/plain": [
              "<IPython.core.display.HTML object>"
            ]
          },
          "metadata": {
            "tags": []
          }
        },
        {
          "output_type": "display_data",
          "data": {
            "text/html": [
              "\n",
              "    <div>\n",
              "        <style>\n",
              "            /* Turns off some styling */\n",
              "            progress {\n",
              "                /* gets rid of default border in Firefox and Opera. */\n",
              "                border: none;\n",
              "                /* Needs to be in here for Safari polyfill so background images work as expected. */\n",
              "                background-size: auto;\n",
              "            }\n",
              "            .progress-bar-interrupted, .progress-bar-interrupted::-webkit-progress-bar {\n",
              "                background: #F44336;\n",
              "            }\n",
              "        </style>\n",
              "      <progress value='1' class='' max='5' style='width:300px; height:20px; vertical-align: middle;'></progress>\n",
              "      20.00% [1/5 02:09<08:37]\n",
              "    </div>\n",
              "    \n",
              "<table border=\"1\" class=\"dataframe\">\n",
              "  <thead>\n",
              "    <tr style=\"text-align: left;\">\n",
              "      <th>epoch</th>\n",
              "      <th>train_loss</th>\n",
              "      <th>valid_loss</th>\n",
              "      <th>accuracy</th>\n",
              "      <th>f1_score</th>\n",
              "      <th>time</th>\n",
              "    </tr>\n",
              "  </thead>\n",
              "  <tbody>\n",
              "    <tr>\n",
              "      <td>0</td>\n",
              "      <td>nan</td>\n",
              "      <td>3.030513</td>\n",
              "      <td>0.052166</td>\n",
              "      <td>0.044313</td>\n",
              "      <td>02:09</td>\n",
              "    </tr>\n",
              "  </tbody>\n",
              "</table><p>\n",
              "\n",
              "    <div>\n",
              "        <style>\n",
              "            /* Turns off some styling */\n",
              "            progress {\n",
              "                /* gets rid of default border in Firefox and Opera. */\n",
              "                border: none;\n",
              "                /* Needs to be in here for Safari polyfill so background images work as expected. */\n",
              "                background-size: auto;\n",
              "            }\n",
              "            .progress-bar-interrupted, .progress-bar-interrupted::-webkit-progress-bar {\n",
              "                background: #F44336;\n",
              "            }\n",
              "        </style>\n",
              "      <progress value='96' class='' max='141' style='width:300px; height:20px; vertical-align: middle;'></progress>\n",
              "      68.09% [96/141 01:21<00:38 nan]\n",
              "    </div>\n",
              "    "
            ],
            "text/plain": [
              "<IPython.core.display.HTML object>"
            ]
          },
          "metadata": {
            "tags": []
          }
        }
      ]
    },
    {
      "cell_type": "markdown",
      "metadata": {
        "id": "8Ik3tzlF3Wqv"
      },
      "source": [
        "## Predict on test data"
      ]
    },
    {
      "cell_type": "code",
      "metadata": {
        "id": "jS_Egu_2vIln"
      },
      "source": [
        "predict_df = test_data_df.text.apply(learn.predict)\n",
        "#predict_df.head()\n",
        "predict_df_class = [x[0] for x in predict_df.values]\n",
        "predict_df_prob = [max(x[2].tolist()) for x in predict_df.values]\n",
        "print(predict_df_class[:10])\n",
        "print(predict_df_prob[:10])"
      ],
      "execution_count": null,
      "outputs": []
    },
    {
      "cell_type": "markdown",
      "metadata": {
        "id": "4i0w6IpZ3b9I"
      },
      "source": [
        "## Classification report"
      ]
    },
    {
      "cell_type": "code",
      "metadata": {
        "id": "8kfQ1LcVHvxX"
      },
      "source": [
        "from sklearn.metrics import classification_report"
      ],
      "execution_count": null,
      "outputs": []
    },
    {
      "cell_type": "code",
      "metadata": {
        "id": "Xn-cYkBrJzpM"
      },
      "source": [
        "act_class = [str(c) for c in test_data_df.title.values]\n",
        "len(np.unique(act_class))"
      ],
      "execution_count": null,
      "outputs": []
    },
    {
      "cell_type": "code",
      "metadata": {
        "id": "8g-zuf8PIJaA"
      },
      "source": [
        "print(classification_report(act_class, predict_df_class))"
      ],
      "execution_count": null,
      "outputs": []
    },
    {
      "cell_type": "code",
      "metadata": {
        "id": "dEQtXBWUIdTB"
      },
      "source": [
        ""
      ],
      "execution_count": null,
      "outputs": []
    }
  ]
}