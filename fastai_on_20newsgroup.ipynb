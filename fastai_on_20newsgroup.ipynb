{
  "nbformat": 4,
  "nbformat_minor": 0,
  "metadata": {
    "colab": {
      "name": "fastai_on_20newsgroup.ipynb",
      "provenance": [],
      "collapsed_sections": [],
      "authorship_tag": "ABX9TyPygEOnJcfZVylxJmZd1rph",
      "include_colab_link": true
    },
    "kernelspec": {
      "name": "python3",
      "display_name": "Python 3"
    },
    "accelerator": "GPU"
  },
  "cells": [
    {
      "cell_type": "markdown",
      "metadata": {
        "id": "view-in-github",
        "colab_type": "text"
      },
      "source": [
        "<a href=\"https://colab.research.google.com/github/sayanbanerjee32/NLP-with-fastai2.0/blob/main/fastai_on_20newsgroup.ipynb\" target=\"_parent\"><img src=\"https://colab.research.google.com/assets/colab-badge.svg\" alt=\"Open In Colab\"/></a>"
      ]
    },
    {
      "cell_type": "markdown",
      "metadata": {
        "id": "9zorTnNqzT1L"
      },
      "source": [
        "# Install fastai 2 version\n",
        "\n",
        "uncomment if required"
      ]
    },
    {
      "cell_type": "code",
      "metadata": {
        "id": "URoMudtzk2Pj"
      },
      "source": [
        "#!pip install fastai --upgrade"
      ],
      "execution_count": 1,
      "outputs": []
    },
    {
      "cell_type": "markdown",
      "metadata": {
        "id": "7F2urjIfzdwX"
      },
      "source": [
        "# Data\n",
        "Import data"
      ]
    },
    {
      "cell_type": "code",
      "metadata": {
        "id": "UUT-Y63_-iHz"
      },
      "source": [
        "from sklearn.datasets import fetch_20newsgroups\n",
        "import pandas as pd"
      ],
      "execution_count": 2,
      "outputs": []
    },
    {
      "cell_type": "code",
      "metadata": {
        "id": "G4hJPHJ3_Alm"
      },
      "source": [
        "from fastai.text.all import *"
      ],
      "execution_count": 3,
      "outputs": []
    },
    {
      "cell_type": "code",
      "metadata": {
        "id": "LYmRfzu1-sBe"
      },
      "source": [
        "def twenty_newsgroup_to_df(data_set = 'train'):\n",
        "    newsgroups_data = fetch_20newsgroups(subset=data_set, \n",
        "                                          remove=('headers', 'footers',\n",
        "                                                  'quotes'))\n",
        "\n",
        "    df = pd.DataFrame([newsgroups_data.data, \n",
        "                       newsgroups_data.target.tolist()]).T\n",
        "    df.columns = ['text', 'target']\n",
        "\n",
        "    targets = pd.DataFrame(newsgroups_data.target_names)\n",
        "    targets.columns = ['title']\n",
        "\n",
        "    data_set = pd.merge(df, targets, left_on='target', right_index=True)\n",
        "    #out['date'] = pd.to_datetime('now')\n",
        "    #out.to_csv('20_newsgroup.csv')\n",
        "    return data_set\n",
        "\n",
        "\n",
        "train_data_df = twenty_newsgroup_to_df('train')\n",
        "test_data_df = twenty_newsgroup_to_df('test')"
      ],
      "execution_count": 4,
      "outputs": []
    },
    {
      "cell_type": "code",
      "metadata": {
        "id": "osYf1dOy-_pi",
        "outputId": "4f20bdea-e2c0-4459-c0a4-8245b0420b1c",
        "colab": {
          "base_uri": "https://localhost:8080/"
        }
      },
      "source": [
        "train_data_df.info(),test_data_df.info()"
      ],
      "execution_count": 5,
      "outputs": [
        {
          "output_type": "stream",
          "text": [
            "<class 'pandas.core.frame.DataFrame'>\n",
            "Int64Index: 11314 entries, 0 to 11302\n",
            "Data columns (total 3 columns):\n",
            " #   Column  Non-Null Count  Dtype \n",
            "---  ------  --------------  ----- \n",
            " 0   text    11314 non-null  object\n",
            " 1   target  11314 non-null  object\n",
            " 2   title   11314 non-null  object\n",
            "dtypes: object(3)\n",
            "memory usage: 353.6+ KB\n",
            "<class 'pandas.core.frame.DataFrame'>\n",
            "Int64Index: 7532 entries, 0 to 7519\n",
            "Data columns (total 3 columns):\n",
            " #   Column  Non-Null Count  Dtype \n",
            "---  ------  --------------  ----- \n",
            " 0   text    7532 non-null   object\n",
            " 1   target  7532 non-null   object\n",
            " 2   title   7532 non-null   object\n",
            "dtypes: object(3)\n",
            "memory usage: 235.4+ KB\n"
          ],
          "name": "stdout"
        },
        {
          "output_type": "execute_result",
          "data": {
            "text/plain": [
              "(None, None)"
            ]
          },
          "metadata": {
            "tags": []
          },
          "execution_count": 5
        }
      ]
    },
    {
      "cell_type": "markdown",
      "metadata": {
        "id": "gcdhM_YAzlRn"
      },
      "source": [
        "Number of classes in train and test"
      ]
    },
    {
      "cell_type": "code",
      "metadata": {
        "id": "NwlarMB0JWuA",
        "outputId": "7a0cac7c-eaa4-414e-852e-53a8835fe6b9",
        "colab": {
          "base_uri": "https://localhost:8080/"
        }
      },
      "source": [
        "len(train_data_df.target.unique()),len(train_data_df.title.unique())"
      ],
      "execution_count": 6,
      "outputs": [
        {
          "output_type": "execute_result",
          "data": {
            "text/plain": [
              "(20, 20)"
            ]
          },
          "metadata": {
            "tags": []
          },
          "execution_count": 6
        }
      ]
    },
    {
      "cell_type": "code",
      "metadata": {
        "id": "iA6xrxImJl8s",
        "outputId": "9559860b-2110-4326-fdb4-8de1676eacdf",
        "colab": {
          "base_uri": "https://localhost:8080/"
        }
      },
      "source": [
        "len(test_data_df.target.unique()),len(test_data_df.title.unique())"
      ],
      "execution_count": 7,
      "outputs": [
        {
          "output_type": "execute_result",
          "data": {
            "text/plain": [
              "(20, 20)"
            ]
          },
          "metadata": {
            "tags": []
          },
          "execution_count": 7
        }
      ]
    },
    {
      "cell_type": "markdown",
      "metadata": {
        "id": "Yteb1NSDzUj7"
      },
      "source": [
        "## is_validation column"
      ]
    },
    {
      "cell_type": "code",
      "metadata": {
        "id": "4n4t3sTFzR3N",
        "outputId": "e8461925-59ce-4aa9-cd6e-61a3c6b16c63",
        "colab": {
          "base_uri": "https://localhost:8080/"
        }
      },
      "source": [
        " np.random.seed(1)\n",
        " msk = np.random.rand(train_data_df.shape[0]) < 0.25\n",
        " train_data_df['is_valid'] = msk\n",
        " print(train_data_df.groupby(['is_valid','title'])['text'].count())"
      ],
      "execution_count": 8,
      "outputs": [
        {
          "output_type": "stream",
          "text": [
            "is_valid  title                   \n",
            "False     alt.atheism                 339\n",
            "          comp.graphics               446\n",
            "          comp.os.ms-windows.misc     437\n",
            "          comp.sys.ibm.pc.hardware    436\n",
            "          comp.sys.mac.hardware       432\n",
            "          comp.windows.x              435\n",
            "          misc.forsale                437\n",
            "          rec.autos                   444\n",
            "          rec.motorcycles             460\n",
            "          rec.sport.baseball          424\n",
            "          rec.sport.hockey            443\n",
            "          sci.crypt                   455\n",
            "          sci.electronics             435\n",
            "          sci.med                     453\n",
            "          sci.space                   459\n",
            "          soc.religion.christian      457\n",
            "          talk.politics.guns          391\n",
            "          talk.politics.mideast       439\n",
            "          talk.politics.misc          362\n",
            "          talk.religion.misc          289\n",
            "True      alt.atheism                 141\n",
            "          comp.graphics               138\n",
            "          comp.os.ms-windows.misc     154\n",
            "          comp.sys.ibm.pc.hardware    154\n",
            "          comp.sys.mac.hardware       146\n",
            "          comp.windows.x              158\n",
            "          misc.forsale                148\n",
            "          rec.autos                   150\n",
            "          rec.motorcycles             138\n",
            "          rec.sport.baseball          173\n",
            "          rec.sport.hockey            157\n",
            "          sci.crypt                   140\n",
            "          sci.electronics             156\n",
            "          sci.med                     141\n",
            "          sci.space                   134\n",
            "          soc.religion.christian      142\n",
            "          talk.politics.guns          155\n",
            "          talk.politics.mideast       125\n",
            "          talk.politics.misc          103\n",
            "          talk.religion.misc           88\n",
            "Name: text, dtype: int64\n"
          ],
          "name": "stdout"
        }
      ]
    },
    {
      "cell_type": "markdown",
      "metadata": {
        "id": "oWvmFH6wzrc6"
      },
      "source": [
        "# Initial model using transfer learning"
      ]
    },
    {
      "cell_type": "markdown",
      "metadata": {
        "id": "XV9pEAU1zwwg"
      },
      "source": [
        "## create data loader from data frame"
      ]
    },
    {
      "cell_type": "markdown",
      "metadata": {
        "id": "FQOw5yEQ1QYc"
      },
      "source": [
        "Defining a seed for reproducible results"
      ]
    },
    {
      "cell_type": "code",
      "metadata": {
        "id": "P7FQLcZZ1DeD"
      },
      "source": [
        "def random_seed(seed_value, use_cuda):\n",
        "    np.random.seed(seed_value) # cpu vars\n",
        "    torch.manual_seed(seed_value) # cpu  vars\n",
        "    random.seed(seed_value) # Python\n",
        "    if use_cuda: \n",
        "        torch.cuda.manual_seed(seed_value)\n",
        "        torch.cuda.manual_seed_all(seed_value) # gpu vars\n",
        "        torch.backends.cudnn.deterministic = True  #needed\n",
        "        torch.backends.cudnn.benchmark = False"
      ],
      "execution_count": 9,
      "outputs": []
    },
    {
      "cell_type": "code",
      "metadata": {
        "id": "0gBe5DlXlqor",
        "outputId": "e07be0c1-9629-4cce-a04d-0f36079e24a6",
        "colab": {
          "base_uri": "https://localhost:8080/",
          "height": 295
        }
      },
      "source": [
        "#random_seed(32, True)\n",
        "dls = TextDataLoaders.from_df(train_data_df, text_col='text', label_col='title',\n",
        "                              valid_col='is_valid', seed=1, shuffle_train=True)\n",
        "dls.show_batch(max_n=3)"
      ],
      "execution_count": 10,
      "outputs": [
        {
          "output_type": "display_data",
          "data": {
            "text/html": [
              ""
            ],
            "text/plain": [
              "<IPython.core.display.HTML object>"
            ]
          },
          "metadata": {
            "tags": []
          }
        },
        {
          "output_type": "display_data",
          "data": {
            "text/html": [
              "<table border=\"1\" class=\"dataframe\">\n",
              "  <thead>\n",
              "    <tr style=\"text-align: right;\">\n",
              "      <th></th>\n",
              "      <th>text</th>\n",
              "      <th>category</th>\n",
              "    </tr>\n",
              "  </thead>\n",
              "  <tbody>\n",
              "    <tr>\n",
              "      <th>0</th>\n",
              "      <td>xxbos xxmaj due to the resolution and size it is in 14 parts . \\n\\n xxmaj this is a uuencoded bitmap . xxunk 256 colors . \\n xxmaj the picture is a xxunk xxunk on a desert with blue sky background . \\n xxmaj the size is just right for centered wallpaper on a 1024x768 display \\n because it leaves a border at the bottom just big enough for icons \\n to fit in without being on top of the picture . xxmaj xxunk image \\n quality and resolution - i have not seen much better . \\n\\n xxmaj for those of you who have n't worked with xxunk image files , here \\n is how to put it back together . \\n\\t 1 . save the 14 parts to 14 individual files \\n\\t 2 . use a text editor to remove the header and xxunk \\n\\t▁ in each file</td>\n",
              "      <td>comp.os.ms-windows.misc</td>\n",
              "    </tr>\n",
              "    <tr>\n",
              "      <th>1</th>\n",
              "      <td>xxbos xxmaj archive - name : hockey - faq \\n\\n rec.sport.hockey answers to xxmaj frequently xxmaj asked xxmaj questions and other news : \\n▁\\n xxmaj contents : \\n\\n 0 . xxmaj new xxmaj info . \\n 1 . xxup nhl \\n 2 . xxup nhl xxmaj minor xxmaj leagues \\n 3 . xxmaj college xxmaj hockey ( north xxmaj america ) \\n 4 . xxmaj other leagues ( e.g. xxmaj europe , xxmaj canada xxmaj cup tournament ) \\n 5 . xxmaj e - mail files \\n 6 . xxup usenet xxmaj hockey xxmaj pool \\n 7 . xxmaj up - coming xxmaj dates \\n 8 . xxmaj answers to some frequently asked questions \\n 9 . xxmaj miscellaneous \\n▁\\n▁ xxmaj send comments , suggestions and criticisms regarding this xxup faq list via xxunk \\n mail to hamlet@u.washington.edu . \\n▁\\n▁ xxrep 74 - \\n▁\\n▁ 0 . xxmaj new xxmaj info</td>\n",
              "      <td>rec.autos</td>\n",
              "    </tr>\n",
              "    <tr>\n",
              "      <th>2</th>\n",
              "      <td>xxbos xxrep 12 - xxmaj part 2 of 14 xxrep 12 - \\n xxup m0 . / xxup xxunk / xxup cbn / xxup xxunk / xxup xxunk , xxunk , xxunk [ \\n xxup xxunk \\ _ -8 \\n xxup my _ / xxup sys * / xxup xxunk \\ xxup xxunk &gt; / xxup c^ &gt; / xxup cx_s \\ xxup xxunk _ / xxup sc _ . / xxup xxunk _ . / xxup c _ / xxup gcx^ / xxup y _ . / \\n m \\ xxup x_scx^ / \\ _ . / xxup c _ / s \\ _ . / \\ xxup x^ / \\ xxup x^ / xxup cx_scx^ / xxup c _ . / xxup cx^ / \\ xxup x^ / xxup c _ . / xxup cx^ / xxup cx^ / \\n m \\ xxup xxunk _ . / \\</td>\n",
              "      <td>misc.forsale</td>\n",
              "    </tr>\n",
              "  </tbody>\n",
              "</table>"
            ],
            "text/plain": [
              "<IPython.core.display.HTML object>"
            ]
          },
          "metadata": {
            "tags": []
          }
        }
      ]
    },
    {
      "cell_type": "markdown",
      "metadata": {
        "id": "NWVY8rdMz4Rk"
      },
      "source": [
        "## create text learner\n",
        "\n",
        "use F1 score as metrics and find optimum learning rate"
      ]
    },
    {
      "cell_type": "code",
      "metadata": {
        "id": "JxnbHI0Rj1hH",
        "outputId": "338a1d81-f88a-401e-f2a9-3ea14a9bb2bc",
        "colab": {
          "base_uri": "https://localhost:8080/",
          "height": 57
        }
      },
      "source": [
        "dls = TextDataLoaders.from_folder(untar_data(URLs.IMDB), valid='test')\n",
        "fscore = F1Score(average='weighted')\n",
        "#ls_func = CrossEntropyLossFlat()\n",
        "#random_seed(32, True)\n",
        "learn = text_classifier_learner(dls, AWD_LSTM, drop_mult=0.5, \n",
        "                                #loss_func = ls_func,\n",
        "                                metrics=[accuracy,fscore])\n",
        "#learn.fine_tune(2, 1e-2)\n",
        "learn.lr_find()"
      ],
      "execution_count": null,
      "outputs": [
        {
          "output_type": "display_data",
          "data": {
            "text/html": [
              "\n",
              "    <div>\n",
              "        <style>\n",
              "            /* Turns off some styling */\n",
              "            progress {\n",
              "                /* gets rid of default border in Firefox and Opera. */\n",
              "                border: none;\n",
              "                /* Needs to be in here for Safari polyfill so background images work as expected. */\n",
              "                background-size: auto;\n",
              "            }\n",
              "            .progress-bar-interrupted, .progress-bar-interrupted::-webkit-progress-bar {\n",
              "                background: #F44336;\n",
              "            }\n",
              "        </style>\n",
              "      <progress value='0' class='' max='1' style='width:300px; height:20px; vertical-align: middle;'></progress>\n",
              "      0.00% [0/1 00:00<00:00]\n",
              "    </div>\n",
              "    \n",
              "\n",
              "\n",
              "    <div>\n",
              "        <style>\n",
              "            /* Turns off some styling */\n",
              "            progress {\n",
              "                /* gets rid of default border in Firefox and Opera. */\n",
              "                border: none;\n",
              "                /* Needs to be in here for Safari polyfill so background images work as expected. */\n",
              "                background-size: auto;\n",
              "            }\n",
              "            .progress-bar-interrupted, .progress-bar-interrupted::-webkit-progress-bar {\n",
              "                background: #F44336;\n",
              "            }\n",
              "        </style>\n",
              "      <progress value='55' class='' max='390' style='width:300px; height:20px; vertical-align: middle;'></progress>\n",
              "      14.10% [55/390 00:35<03:34 0.8500]\n",
              "    </div>\n",
              "    "
            ],
            "text/plain": [
              "<IPython.core.display.HTML object>"
            ]
          },
          "metadata": {
            "tags": []
          }
        }
      ]
    },
    {
      "cell_type": "code",
      "metadata": {
        "id": "sIXp3AZY1x39"
      },
      "source": [
        "learn.fine_tune(1, 1e-2)"
      ],
      "execution_count": null,
      "outputs": []
    },
    {
      "cell_type": "markdown",
      "metadata": {
        "id": "N7p6rMMP2CoW"
      },
      "source": [
        "Tune the model with suggested learning rate that is min learning rate devided by 10."
      ]
    },
    {
      "cell_type": "code",
      "metadata": {
        "id": "IuKI8pzSOTqh"
      },
      "source": [
        "#learn.fit_one_cycle(1, 0.001) # min / 10\n",
        "#learn.fit_one_cycle(1, 2e-2)"
      ],
      "execution_count": null,
      "outputs": []
    },
    {
      "cell_type": "code",
      "metadata": {
        "id": "xk3bAkTf8ZMB"
      },
      "source": [
        "#learn.freeze_to(-2)\n",
        "#learn.fit_one_cycle(1, slice(1e-2/(2.6**4),1e-2))"
      ],
      "execution_count": null,
      "outputs": []
    },
    {
      "cell_type": "code",
      "metadata": {
        "id": "Ree8zSHt8aG1"
      },
      "source": [
        "#learn.freeze_to(-3)\n",
        "#learn.fit_one_cycle(1, slice(5e-3/(2.6**4),5e-3))"
      ],
      "execution_count": null,
      "outputs": []
    },
    {
      "cell_type": "code",
      "metadata": {
        "id": "7KZFh7Gi8cNQ"
      },
      "source": [
        "#learn.unfreeze()\n",
        "#learn.fit_one_cycle(2, slice(1e-3/(2.6**4),1e-3))"
      ],
      "execution_count": null,
      "outputs": []
    },
    {
      "cell_type": "code",
      "metadata": {
        "id": "oXpX2wOkQEmk"
      },
      "source": [
        "#learn.fine_tune(5,0.01)"
      ],
      "execution_count": null,
      "outputs": []
    },
    {
      "cell_type": "markdown",
      "metadata": {
        "id": "8Ik3tzlF3Wqv"
      },
      "source": [
        "## Predict on test data"
      ]
    },
    {
      "cell_type": "code",
      "metadata": {
        "id": "jS_Egu_2vIln"
      },
      "source": [
        "predict_df = test_data_df.text.apply(learn.predict)\n",
        "#predict_df.head()\n",
        "predict_df_class = [x[0] for x in predict_df.values]\n",
        "predict_df_prob = [max(x[2].tolist()) for x in predict_df.values]\n",
        "print(predict_df_class[:10])\n",
        "print(predict_df_prob[:10])"
      ],
      "execution_count": null,
      "outputs": []
    },
    {
      "cell_type": "markdown",
      "metadata": {
        "id": "4i0w6IpZ3b9I"
      },
      "source": [
        "## Classification report"
      ]
    },
    {
      "cell_type": "code",
      "metadata": {
        "id": "8kfQ1LcVHvxX"
      },
      "source": [
        "from sklearn.metrics import classification_report"
      ],
      "execution_count": null,
      "outputs": []
    },
    {
      "cell_type": "code",
      "metadata": {
        "id": "Xn-cYkBrJzpM"
      },
      "source": [
        "act_class = [str(c) for c in test_data_df.title.values]\n",
        "len(np.unique(act_class))"
      ],
      "execution_count": null,
      "outputs": []
    },
    {
      "cell_type": "code",
      "metadata": {
        "id": "8g-zuf8PIJaA"
      },
      "source": [
        "print(classification_report(act_class, predict_df_class))"
      ],
      "execution_count": null,
      "outputs": []
    },
    {
      "cell_type": "code",
      "metadata": {
        "id": "dEQtXBWUIdTB"
      },
      "source": [
        ""
      ],
      "execution_count": null,
      "outputs": []
    }
  ]
}