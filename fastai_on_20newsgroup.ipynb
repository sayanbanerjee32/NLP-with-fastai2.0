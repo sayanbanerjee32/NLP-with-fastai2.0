{
  "nbformat": 4,
  "nbformat_minor": 0,
  "metadata": {
    "colab": {
      "name": "fastai_on_20newsgroup.ipynb",
      "provenance": [],
      "collapsed_sections": [],
      "authorship_tag": "ABX9TyONyLTNH9jyBtjF2pj5dJEF",
      "include_colab_link": true
    },
    "kernelspec": {
      "name": "python3",
      "display_name": "Python 3"
    },
    "accelerator": "GPU"
  },
  "cells": [
    {
      "cell_type": "markdown",
      "metadata": {
        "id": "view-in-github",
        "colab_type": "text"
      },
      "source": [
        "<a href=\"https://colab.research.google.com/github/sayanbanerjee32/NLP-with-fastai2.0/blob/main/fastai_on_20newsgroup.ipynb\" target=\"_parent\"><img src=\"https://colab.research.google.com/assets/colab-badge.svg\" alt=\"Open In Colab\"/></a>"
      ]
    },
    {
      "cell_type": "code",
      "metadata": {
        "id": "URoMudtzk2Pj"
      },
      "source": [
        "#!pip install fastai --upgrade"
      ],
      "execution_count": 1,
      "outputs": []
    },
    {
      "cell_type": "code",
      "metadata": {
        "id": "UUT-Y63_-iHz"
      },
      "source": [
        "from sklearn.datasets import fetch_20newsgroups\n",
        "import pandas as pd"
      ],
      "execution_count": 2,
      "outputs": []
    },
    {
      "cell_type": "code",
      "metadata": {
        "id": "LYmRfzu1-sBe"
      },
      "source": [
        "def twenty_newsgroup_to_df(data_set = 'train'):\n",
        "    newsgroups_train = fetch_20newsgroups(subset=data_set, \n",
        "                                          remove=('headers', 'footers',\n",
        "                                                  'quotes'))\n",
        "\n",
        "    df = pd.DataFrame([newsgroups_train.data, newsgroups_train.target.tolist()]).T\n",
        "    df.columns = ['text', 'target']\n",
        "\n",
        "    targets = pd.DataFrame(newsgroups_train.target_names)\n",
        "    targets.columns = ['title']\n",
        "\n",
        "    train = pd.merge(df, targets, left_on='target', right_index=True)\n",
        "    #out['date'] = pd.to_datetime('now')\n",
        "    #out.to_csv('20_newsgroup.csv')\n",
        "    return train\n",
        "\n",
        "\n",
        "train_data_df = twenty_newsgroup_to_df('train')\n",
        "test_data_df = twenty_newsgroup_to_df('test')"
      ],
      "execution_count": 3,
      "outputs": []
    },
    {
      "cell_type": "code",
      "metadata": {
        "id": "osYf1dOy-_pi",
        "outputId": "07d26e1a-ac96-4523-902d-cdcfba8d08b0",
        "colab": {
          "base_uri": "https://localhost:8080/"
        }
      },
      "source": [
        "train_data_df.info(),test_data_df.info()"
      ],
      "execution_count": 4,
      "outputs": [
        {
          "output_type": "stream",
          "text": [
            "<class 'pandas.core.frame.DataFrame'>\n",
            "Int64Index: 11314 entries, 0 to 11302\n",
            "Data columns (total 3 columns):\n",
            " #   Column  Non-Null Count  Dtype \n",
            "---  ------  --------------  ----- \n",
            " 0   text    11314 non-null  object\n",
            " 1   target  11314 non-null  object\n",
            " 2   title   11314 non-null  object\n",
            "dtypes: object(3)\n",
            "memory usage: 353.6+ KB\n",
            "<class 'pandas.core.frame.DataFrame'>\n",
            "Int64Index: 7532 entries, 0 to 7519\n",
            "Data columns (total 3 columns):\n",
            " #   Column  Non-Null Count  Dtype \n",
            "---  ------  --------------  ----- \n",
            " 0   text    7532 non-null   object\n",
            " 1   target  7532 non-null   object\n",
            " 2   title   7532 non-null   object\n",
            "dtypes: object(3)\n",
            "memory usage: 235.4+ KB\n"
          ],
          "name": "stdout"
        },
        {
          "output_type": "execute_result",
          "data": {
            "text/plain": [
              "(None, None)"
            ]
          },
          "metadata": {
            "tags": []
          },
          "execution_count": 4
        }
      ]
    },
    {
      "cell_type": "code",
      "metadata": {
        "id": "G4hJPHJ3_Alm"
      },
      "source": [
        "from fastai.text.all import *"
      ],
      "execution_count": 5,
      "outputs": []
    },
    {
      "cell_type": "code",
      "metadata": {
        "id": "0gBe5DlXlqor",
        "outputId": "17ce8a04-d944-4223-b94b-e7835df55852",
        "colab": {
          "base_uri": "https://localhost:8080/",
          "height": 312
        }
      },
      "source": [
        "dls = TextDataLoaders.from_df(train_data_df, text_col='text', label_col='target')\n",
        "dls.show_batch(max_n=3)"
      ],
      "execution_count": 6,
      "outputs": [
        {
          "output_type": "display_data",
          "data": {
            "text/html": [
              ""
            ],
            "text/plain": [
              "<IPython.core.display.HTML object>"
            ]
          },
          "metadata": {
            "tags": []
          }
        },
        {
          "output_type": "display_data",
          "data": {
            "text/html": [
              "<table border=\"1\" class=\"dataframe\">\n",
              "  <thead>\n",
              "    <tr style=\"text-align: right;\">\n",
              "      <th></th>\n",
              "      <th>text</th>\n",
              "      <th>category</th>\n",
              "    </tr>\n",
              "  </thead>\n",
              "  <tbody>\n",
              "    <tr>\n",
              "      <th>0</th>\n",
              "      <td>xxbos xxmaj due to the resolution and size it is in 14 parts . \\n\\n xxmaj this is a uuencoded bitmap . xxunk 256 colors . \\n xxmaj the picture is a xxunk xxunk on a desert with blue sky background . \\n xxmaj the size is just right for centered wallpaper on a 1024x768 display \\n because it leaves a border at the bottom just big enough for icons \\n to fit in without being on top of the picture . xxmaj xxunk image \\n quality and resolution - i have not seen much better . \\n\\n xxmaj for those of you who have n't worked with xxunk image files , here \\n is how to put it back together . \\n\\t 1 . save the 14 parts to 14 individual files \\n\\t 2 . use a text editor to remove the header and xxunk \\n\\t▁ in each file</td>\n",
              "      <td>2</td>\n",
              "    </tr>\n",
              "    <tr>\n",
              "      <th>1</th>\n",
              "      <td>xxbos xxmaj try the firearms archive . xxmaj larry xxmaj cipriani 's instructions follow . xxmaj by \\n the way , thanks for the archive xxmaj larry .. \\n\\n xxmaj this year is the 103rd congress directory . \\n\\n▁ xxrep 28 - \\n xxmaj from \\n xxunk \\n xxunk . \\n xxunk xxmaj thu xxmaj apr 8 xxunk 1993 \\n xxmaj article : xxunk of talk.politics.guns \\n xxmaj path : \\n xxunk \\n xxunk . \\n xxunk \\n xxmaj from : xxunk \\n xxmaj newsgroups : talk.politics.guns \\n xxmaj subject : xxmaj information about the anonymous ftp xxup rkba archive \\n message - id : &lt; xxunk &gt; \\n xxmaj date : 8 xxmaj apr 93 xxunk xxup gmt \\n xxmaj sender : xxunk \\n xxmaj organization : xxmaj ideology xxmaj busters , xxmaj inc . \\n xxmaj lines : xxunk \\n\\n xxmaj this is the xxup index file for</td>\n",
              "      <td>16</td>\n",
              "    </tr>\n",
              "    <tr>\n",
              "      <th>2</th>\n",
              "      <td>xxbos xxrep 10 - cut here xxrep 10 - part 03 / 03 \\n xxup xxunk a \\ - \\ ( $ xxunk xxup xxunk &lt; # xxup xxunk ( \\n xxup xxunk u ) xxunk / xxup xxunk &lt; xxunk # xxup xxunk xxup ad . \" / , ( , v1 # &amp; w ; \\n xxup xxunk xxunk : xxunk \\ xxup xxunk % ! ] xxunk \\n m / ' ' j - xxunk # \\ xxunk # xxup xxunk ) \\n xxup xxunk &lt; xxunk . ; \\ xxup xxunk = xxunk # xxunk \\n xxup xxunk # xxup xxunk : al ' \\n xxup xxunk : xxunk , xxunk ; \\ ' xxunk \\n xxup xxunk &lt; hx - xxunk = xxunk / xxunk \\n xxup mh = xxunk # xxup xxunk # xxunk - xxunk \\n xxup xxunk / xxup xxunk : xxunk</td>\n",
              "      <td>2</td>\n",
              "    </tr>\n",
              "  </tbody>\n",
              "</table>"
            ],
            "text/plain": [
              "<IPython.core.display.HTML object>"
            ]
          },
          "metadata": {
            "tags": []
          }
        }
      ]
    },
    {
      "cell_type": "code",
      "metadata": {
        "id": "JxnbHI0Rj1hH",
        "outputId": "d68b4265-2a0b-4f04-a1e5-91ca3a4e1d5a",
        "colab": {
          "base_uri": "https://localhost:8080/",
          "height": 174
        }
      },
      "source": [
        "#dls = TextDataLoaders.from_folder(untar_data(URLs.IMDB), valid='test')\n",
        "fscore = F1Score(average='weighted')\n",
        "ls_fucn = CrossEntropyLossFlat()\n",
        "learn = text_classifier_learner(dls, AWD_LSTM, drop_mult=0.5, \n",
        "                                loss_func = ls_fucn,\n",
        "                                metrics=[accuracy,fscore])\n",
        "learn.fine_tune(2, 1e-2)"
      ],
      "execution_count": 14,
      "outputs": [
        {
          "output_type": "display_data",
          "data": {
            "text/html": [
              "<table border=\"1\" class=\"dataframe\">\n",
              "  <thead>\n",
              "    <tr style=\"text-align: left;\">\n",
              "      <th>epoch</th>\n",
              "      <th>train_loss</th>\n",
              "      <th>valid_loss</th>\n",
              "      <th>accuracy</th>\n",
              "      <th>f1_score</th>\n",
              "      <th>time</th>\n",
              "    </tr>\n",
              "  </thead>\n",
              "  <tbody>\n",
              "    <tr>\n",
              "      <td>0</td>\n",
              "      <td>nan</td>\n",
              "      <td>1.723637</td>\n",
              "      <td>0.472149</td>\n",
              "      <td>0.462963</td>\n",
              "      <td>01:10</td>\n",
              "    </tr>\n",
              "  </tbody>\n",
              "</table>"
            ],
            "text/plain": [
              "<IPython.core.display.HTML object>"
            ]
          },
          "metadata": {
            "tags": []
          }
        },
        {
          "output_type": "display_data",
          "data": {
            "text/html": [
              "<table border=\"1\" class=\"dataframe\">\n",
              "  <thead>\n",
              "    <tr style=\"text-align: left;\">\n",
              "      <th>epoch</th>\n",
              "      <th>train_loss</th>\n",
              "      <th>valid_loss</th>\n",
              "      <th>accuracy</th>\n",
              "      <th>f1_score</th>\n",
              "      <th>time</th>\n",
              "    </tr>\n",
              "  </thead>\n",
              "  <tbody>\n",
              "    <tr>\n",
              "      <td>0</td>\n",
              "      <td>nan</td>\n",
              "      <td>1.377396</td>\n",
              "      <td>0.564987</td>\n",
              "      <td>0.554876</td>\n",
              "      <td>02:05</td>\n",
              "    </tr>\n",
              "    <tr>\n",
              "      <td>1</td>\n",
              "      <td>nan</td>\n",
              "      <td>1.183050</td>\n",
              "      <td>0.622900</td>\n",
              "      <td>0.618430</td>\n",
              "      <td>02:05</td>\n",
              "    </tr>\n",
              "  </tbody>\n",
              "</table>"
            ],
            "text/plain": [
              "<IPython.core.display.HTML object>"
            ]
          },
          "metadata": {
            "tags": []
          }
        }
      ]
    }
  ]
}