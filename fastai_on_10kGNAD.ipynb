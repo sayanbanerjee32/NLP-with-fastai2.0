{
  "nbformat": 4,
  "nbformat_minor": 0,
  "metadata": {
    "colab": {
      "name": "fastai_on_10kGNAD.ipynb",
      "provenance": [],
      "collapsed_sections": [],
      "authorship_tag": "ABX9TyNXRZqecMvIlSciBUoZDpm7",
      "include_colab_link": true
    },
    "kernelspec": {
      "name": "python3",
      "display_name": "Python 3"
    },
    "accelerator": "GPU"
  },
  "cells": [
    {
      "cell_type": "markdown",
      "metadata": {
        "id": "view-in-github",
        "colab_type": "text"
      },
      "source": [
        "<a href=\"https://colab.research.google.com/github/sayanbanerjee32/NLP-with-fastai2.0/blob/main/fastai_on_10kGNAD.ipynb\" target=\"_parent\"><img src=\"https://colab.research.google.com/assets/colab-badge.svg\" alt=\"Open In Colab\"/></a>"
      ]
    },
    {
      "cell_type": "markdown",
      "metadata": {
        "id": "TwZx8lI4gFwc"
      },
      "source": [
        "# German text classification using fastai v2 and language model\n",
        "\n",
        "Following github page has same implementation with fastai v1\n",
        "https://github.com/jfilter/ulmfit-for-german"
      ]
    },
    {
      "cell_type": "markdown",
      "metadata": {
        "id": "uwz9XgIOgPNa"
      },
      "source": [
        "## Set up emvironment"
      ]
    },
    {
      "cell_type": "markdown",
      "metadata": {
        "id": "2MhgnXBngm8p"
      },
      "source": [
        "Install required python packages"
      ]
    },
    {
      "cell_type": "code",
      "metadata": {
        "id": "3kHwjgd0Xx1n"
      },
      "source": [
        "# !pip install fastai --upgrade\n",
        "# #==2.1.4\n",
        "# !pip install bpemb\n",
        "# !pip install cleantext "
      ],
      "execution_count": 1,
      "outputs": []
    },
    {
      "cell_type": "markdown",
      "metadata": {
        "id": "IkHfGgSYgsuV"
      },
      "source": [
        "Download data from github"
      ]
    },
    {
      "cell_type": "code",
      "metadata": {
        "id": "ivYJv0All5p3"
      },
      "source": [
        "# !wget https://github.com/tblock/10kGNAD/raw/master/train.csv\n",
        "# !wget https://github.com/tblock/10kGNAD/raw/master/test.csv\n",
        "# !ls"
      ],
      "execution_count": 2,
      "outputs": []
    },
    {
      "cell_type": "markdown",
      "metadata": {
        "id": "WFeXfZiFhTqx"
      },
      "source": [
        "Download the pre-trained language model"
      ]
    },
    {
      "cell_type": "code",
      "metadata": {
        "id": "CK0IujBX3o5X"
      },
      "source": [
        "# !wget -O models/ulmfit_for_german_jfilter.pth https://github.com/jfilter/ulmfit-for-german/releases/download/0.1.0/ulmfit_for_german_jfilter.pth\n",
        "# !ls models/"
      ],
      "execution_count": 3,
      "outputs": []
    },
    {
      "cell_type": "markdown",
      "metadata": {
        "id": "d0aQ6AmRhYli"
      },
      "source": [
        "Download nltk data in nltk_data folder locally."
      ]
    },
    {
      "cell_type": "code",
      "metadata": {
        "id": "qx9BJbfRnSEN"
      },
      "source": [
        "# !mkdir nltk_data\n",
        "# !ls"
      ],
      "execution_count": 4,
      "outputs": []
    },
    {
      "cell_type": "code",
      "metadata": {
        "id": "hCTYKvQqpLm0"
      },
      "source": [
        "import nltk\n",
        "# nltk.download('stopwords', download_dir='nltk_data')\n",
        "nltk.data.path.append('nltk_data')\n",
        "# from nltk.corpus import stopwords"
      ],
      "execution_count": 5,
      "outputs": []
    },
    {
      "cell_type": "markdown",
      "metadata": {
        "id": "vv4u_tRGhr39"
      },
      "source": [
        "## Starting of main code"
      ]
    },
    {
      "cell_type": "markdown",
      "metadata": {
        "id": "Epw0oe43hu7K"
      },
      "source": [
        "Import the python libraries"
      ]
    },
    {
      "cell_type": "code",
      "metadata": {
        "id": "oA-U7pnqX-IK"
      },
      "source": [
        "import csv\n",
        "\n",
        "from bpemb import BPEmb\n",
        "from cleantext import clean\n",
        "#from fastai.callbacks import *\n",
        "#from fastai.imports import torch\n",
        "from fastai.text.all import *\n",
        "import pandas as pd\n",
        "\n",
        "#torch.cuda.set_device(2)"
      ],
      "execution_count": 6,
      "outputs": []
    },
    {
      "cell_type": "markdown",
      "metadata": {
        "id": "fHZrieW7h_nm"
      },
      "source": [
        "Download sub-word tokenization vocabulary (pre-trained) for german language."
      ]
    },
    {
      "cell_type": "code",
      "metadata": {
        "id": "2UPz0nVyYs8u"
      },
      "source": [
        "bpemb_de = BPEmb(lang=\"de\", vs=25000, dim=300)\n",
        "\n",
        "# construct the vocabulary by added a padding token with the ID 25000 (because of the bpemb_de vocab size)\n",
        "voc = bpemb_de.words + ['xxpad']\n",
        "#itos = dict(enumerate(voc))\n",
        "#voc = Vocab(itos)"
      ],
      "execution_count": 7,
      "outputs": []
    },
    {
      "cell_type": "markdown",
      "metadata": {
        "id": "PqgQGziHlKY6"
      },
      "source": [
        "Load the training + validation and testing data and clean them"
      ]
    },
    {
      "cell_type": "code",
      "metadata": {
        "id": "cmwn_hvFZ0Of"
      },
      "source": [
        "def load_data(filename):\n",
        "    texts = []\n",
        "    labels = []\n",
        "    with open(filename) as csvfile:\n",
        "        # follow the 10kGNAD creator's setup\n",
        "        reader = csv.reader(csvfile, delimiter=';', quotechar='\\'')\n",
        "        for row in reader:\n",
        "            labels.append(row[0])\n",
        "            texts.append(row[1])\n",
        "    df = pd.DataFrame({'label': labels, 'text': texts})\n",
        "    #df['text'] = df['text'].apply(lambda x: bpemb_de.encode_ids_with_bos_eos(clean(x, stp_lang='german')))\n",
        "                                                                                   #lang='de')))\n",
        "    # lower case and extra space handling, but no stopword or stemming or number and punctuation removal\n",
        "    df['text'] = df['text'].apply(lambda x: clean(x, extra_spaces=True, stopwords=False,\n",
        "                                                  lowercase=True, stp_lang='german'))\n",
        "    return df\n",
        "\n",
        "df_train_valid = load_data(\"train.csv\")\n",
        "\n",
        "# the last 1000 training samples are used for validation\n",
        "# df_train = df_train_valid.iloc[:-1000]\n",
        "# df_valid = df_train_valid.iloc[-1000:]\n",
        "\n",
        "df_test = load_data(\"test.csv\")"
      ],
      "execution_count": 8,
      "outputs": []
    },
    {
      "cell_type": "code",
      "metadata": {
        "id": "ZOGQ94K5l31t",
        "colab": {
          "base_uri": "https://localhost:8080/",
          "height": 442
        },
        "outputId": "8e96a10a-b010-453e-ac19-664c685f9a67"
      },
      "source": [
        "df_train_valid.head()"
      ],
      "execution_count": 9,
      "outputs": [
        {
          "output_type": "execute_result",
          "data": {
            "text/html": [
              "<div>\n",
              "<style scoped>\n",
              "    .dataframe tbody tr th:only-of-type {\n",
              "        vertical-align: middle;\n",
              "    }\n",
              "\n",
              "    .dataframe tbody tr th {\n",
              "        vertical-align: top;\n",
              "    }\n",
              "\n",
              "    .dataframe thead th {\n",
              "        text-align: right;\n",
              "    }\n",
              "</style>\n",
              "<table border=\"1\" class=\"dataframe\">\n",
              "  <thead>\n",
              "    <tr style=\"text-align: right;\">\n",
              "      <th></th>\n",
              "      <th>label</th>\n",
              "      <th>text</th>\n",
              "    </tr>\n",
              "  </thead>\n",
              "  <tbody>\n",
              "    <tr>\n",
              "      <th>0</th>\n",
              "      <td>Sport</td>\n",
              "      <td>21-jähriger fällt wohl bis saisonende aus. wien – rapid muss wohl bis saisonende auf offensivspieler thomas murg verzichten. der im winter aus ried gekommene 21-jährige erlitt beim 0:4-heimdebakel gegen admira wacker mödling am samstag einen teilriss des innenbandes im linken knie, wie eine magnetresonanz-untersuchung am donnerstag ergab. murg erhielt eine schiene, muss aber nicht operiert werden. dennoch steht ihm eine mehrwöchige pause bevor.</td>\n",
              "    </tr>\n",
              "    <tr>\n",
              "      <th>1</th>\n",
              "      <td>Kultur</td>\n",
              "      <td>erfundene bilder zu filmen, die als verloren gelten: \"the forbidden room\" von guy maddin und evan johnson ist ein surrealer ritt durch die magischen labyrinthe des frühen kinos. wien – die filmgeschichte ist ein friedhof der verlorenen. unter den begrabenen finden sich zahllose filme, von denen nur noch mysteriös oder abenteuerlich klingende namen kursieren; und solche, über die verstreut herumliegendes sekundärmaterial aufschluss erlaubt. einer davon ist the forbidden room, ein two-reeler von 1913/14, den der arbeitswütige us-regisseur allan dwan u. a. mit dem horrordarsteller lon chaney ...</td>\n",
              "    </tr>\n",
              "    <tr>\n",
              "      <th>2</th>\n",
              "      <td>Web</td>\n",
              "      <td>der frischgekürte ceo sundar pichai setzt auf ein umgänglicheres führungsteam. die atmosphäre im silicon valley ist rau. da werden massenhaft mitarbeiter der direkten konkurrenz abgeworben, löhne mit firmenübergreifenden mauscheleien niedrig gehalten und untergebene wegen leicht verfehlter ziele vor die tür gesetzt. auch in der höchsten firmenebene werden brutale umgangsformen gepflegt: die wutausbrüche von apple-mitgründer steve jobs sind legendär, sein früherer geschäftspartner steve wozniak hätte ihn zu lebzeiten gerne als arschloch beschimpft, traute sich aber nicht. auch google-mitgrü...</td>\n",
              "    </tr>\n",
              "    <tr>\n",
              "      <th>3</th>\n",
              "      <td>Wirtschaft</td>\n",
              "      <td>putin: \"einigung, dass wir menge auf niveau von jänner halten\". moskau – die russischen ölproduzenten wollen nach den worten von präsident wladimir putin ihre förderung in diesem jahr einfrieren. im großen und ganzen wurde eine einigung erzielt, dass wir die ölproduktion auf dem niveau von jänner halten werden, sagte putin am mittwoch in moskau. russland leidet wie andere förderstaaten unter dem drastischen einbruch der ölpreise. putin will die preise durch eine begrenzte förderung im in- und ausland stabilisieren. dazu hatte russland jüngst mit saudi-arabien und anderen großen förderlände...</td>\n",
              "    </tr>\n",
              "    <tr>\n",
              "      <th>4</th>\n",
              "      <td>Inland</td>\n",
              "      <td>estland sieht den künftigen österreichischen präsidenten auch als estnischen staatsbürger. wien/tallinn/pskow – die eltern des künftigen bundespräsidenten waren 1941 aus dem von sowjets besetzten estland in das damalige deutsche reich geflohen, wo 1944 in wien sascha van der bellen zur welt kam. estnische verwandte jubelten am dienstag über dessen wahlsieg, freude herrscht auch unter politikern des landes. interesse an van der bellen gibt es auch in der russischen stadt pskow, der geburtsstadt seiner eltern. wir haben von ganzem herzen und mit der ganzen familie mitgefiebert, sagt irina st...</td>\n",
              "    </tr>\n",
              "  </tbody>\n",
              "</table>\n",
              "</div>"
            ],
            "text/plain": [
              "        label                                                                                                                                                                                                                                                                                                                                                                                                                                                                                                                                                                                                                     text\n",
              "0       Sport                                                                                                                                                         21-jähriger fällt wohl bis saisonende aus. wien – rapid muss wohl bis saisonende auf offensivspieler thomas murg verzichten. der im winter aus ried gekommene 21-jährige erlitt beim 0:4-heimdebakel gegen admira wacker mödling am samstag einen teilriss des innenbandes im linken knie, wie eine magnetresonanz-untersuchung am donnerstag ergab. murg erhielt eine schiene, muss aber nicht operiert werden. dennoch steht ihm eine mehrwöchige pause bevor.\n",
              "1      Kultur  erfundene bilder zu filmen, die als verloren gelten: \"the forbidden room\" von guy maddin und evan johnson ist ein surrealer ritt durch die magischen labyrinthe des frühen kinos. wien – die filmgeschichte ist ein friedhof der verlorenen. unter den begrabenen finden sich zahllose filme, von denen nur noch mysteriös oder abenteuerlich klingende namen kursieren; und solche, über die verstreut herumliegendes sekundärmaterial aufschluss erlaubt. einer davon ist the forbidden room, ein two-reeler von 1913/14, den der arbeitswütige us-regisseur allan dwan u. a. mit dem horrordarsteller lon chaney ...\n",
              "2         Web  der frischgekürte ceo sundar pichai setzt auf ein umgänglicheres führungsteam. die atmosphäre im silicon valley ist rau. da werden massenhaft mitarbeiter der direkten konkurrenz abgeworben, löhne mit firmenübergreifenden mauscheleien niedrig gehalten und untergebene wegen leicht verfehlter ziele vor die tür gesetzt. auch in der höchsten firmenebene werden brutale umgangsformen gepflegt: die wutausbrüche von apple-mitgründer steve jobs sind legendär, sein früherer geschäftspartner steve wozniak hätte ihn zu lebzeiten gerne als arschloch beschimpft, traute sich aber nicht. auch google-mitgrü...\n",
              "3  Wirtschaft  putin: \"einigung, dass wir menge auf niveau von jänner halten\". moskau – die russischen ölproduzenten wollen nach den worten von präsident wladimir putin ihre förderung in diesem jahr einfrieren. im großen und ganzen wurde eine einigung erzielt, dass wir die ölproduktion auf dem niveau von jänner halten werden, sagte putin am mittwoch in moskau. russland leidet wie andere förderstaaten unter dem drastischen einbruch der ölpreise. putin will die preise durch eine begrenzte förderung im in- und ausland stabilisieren. dazu hatte russland jüngst mit saudi-arabien und anderen großen förderlände...\n",
              "4      Inland  estland sieht den künftigen österreichischen präsidenten auch als estnischen staatsbürger. wien/tallinn/pskow – die eltern des künftigen bundespräsidenten waren 1941 aus dem von sowjets besetzten estland in das damalige deutsche reich geflohen, wo 1944 in wien sascha van der bellen zur welt kam. estnische verwandte jubelten am dienstag über dessen wahlsieg, freude herrscht auch unter politikern des landes. interesse an van der bellen gibt es auch in der russischen stadt pskow, der geburtsstadt seiner eltern. wir haben von ganzem herzen und mit der ganzen familie mitgefiebert, sagt irina st..."
            ]
          },
          "metadata": {
            "tags": []
          },
          "execution_count": 9
        }
      ]
    },
    {
      "cell_type": "markdown",
      "metadata": {
        "id": "8mW5XeJHlRIa"
      },
      "source": [
        "Create training and validation split (20% for validation)"
      ]
    },
    {
      "cell_type": "code",
      "metadata": {
        "colab": {
          "base_uri": "https://localhost:8080/"
        },
        "id": "-r_DPq0S147J",
        "outputId": "53bbad5e-f06c-4440-c317-67256ea77a0d"
      },
      "source": [
        " np.random.seed(1)\n",
        " msk = np.random.rand(df_train_valid.shape[0]) < 0.2\n",
        " df_train_valid['is_valid'] = msk\n",
        " print(df_train_valid.groupby(['is_valid','label'])['text'].count())"
      ],
      "execution_count": 10,
      "outputs": [
        {
          "output_type": "stream",
          "text": [
            "is_valid  label        \n",
            "False     Etat              480\n",
            "          Inland            718\n",
            "          International    1089\n",
            "          Kultur            374\n",
            "          Panorama         1206\n",
            "          Sport             874\n",
            "          Web              1209\n",
            "          Wirtschaft       1012\n",
            "          Wissenschaft      412\n",
            "True      Etat              121\n",
            "          Inland            195\n",
            "          International     271\n",
            "          Kultur            111\n",
            "          Panorama          304\n",
            "          Sport             207\n",
            "          Web               300\n",
            "          Wirtschaft        258\n",
            "          Wissenschaft      104\n",
            "Name: text, dtype: int64\n"
          ],
          "name": "stdout"
        }
      ]
    },
    {
      "cell_type": "markdown",
      "metadata": {
        "id": "2peMcDhrlcsE"
      },
      "source": [
        "## Fine tune language model"
      ]
    },
    {
      "cell_type": "markdown",
      "metadata": {
        "id": "MHhBRwCarqak"
      },
      "source": [
        "Create data block with the sub-word vocab"
      ]
    },
    {
      "cell_type": "code",
      "metadata": {
        "id": "iWBj7Asytham",
        "colab": {
          "base_uri": "https://localhost:8080/",
          "height": 213
        },
        "outputId": "644f1e0d-eb26-4e9c-89fe-7fb386745bbb"
      },
      "source": [
        "#data_lm = TextLMDataBunch.from_ids('uf_de_exp', bs=128, vocab=voc, train_ids=df_train['text'], valid_ids=df_valid['text'])\n",
        "data_lm = DataBlock(\n",
        "            blocks=TextBlock.from_df('text', is_lm=True, vocab = voc),\n",
        "            get_x=ColReader('text'),\n",
        "            splitter=RandomSplitter(0.1))\n",
        "\n",
        "dls_lm = data_lm.dataloaders(df_train_valid) \n",
        "dls_lm.show_batch(max_n=2)"
      ],
      "execution_count": 11,
      "outputs": [
        {
          "output_type": "display_data",
          "data": {
            "text/html": [
              ""
            ],
            "text/plain": [
              "<IPython.core.display.HTML object>"
            ]
          },
          "metadata": {
            "tags": []
          }
        },
        {
          "output_type": "display_data",
          "data": {
            "text/html": [
              "<table border=\"1\" class=\"dataframe\">\n",
              "  <thead>\n",
              "    <tr style=\"text-align: right;\">\n",
              "      <th></th>\n",
              "      <th>text</th>\n",
              "      <th>text_</th>\n",
              "    </tr>\n",
              "  </thead>\n",
              "  <tbody>\n",
              "    <tr>\n",
              "      <th>0</th>\n",
              "      <td>&lt;unk&gt; &lt;unk&gt; &lt;unk&gt; &lt;unk&gt; zwei &lt;unk&gt; - &lt;unk&gt; , die ein &lt;unk&gt; - video &lt;unk&gt; &lt;unk&gt; . &lt;unk&gt; setzt auf &lt;unk&gt; &lt;unk&gt; : mit &lt;unk&gt; vr - &lt;unk&gt; &lt;unk&gt; vr war der &lt;unk&gt; konzern unter den &lt;unk&gt; &lt;unk&gt; in der sparte , &lt;unk&gt; will man mit einer vr - kamera punkten . die &lt;unk&gt; &lt;unk&gt; &lt;unk&gt; aus zwei &lt;unk&gt; - &lt;unk&gt; mit &lt;unk&gt; &lt;unk&gt; - &lt;unk&gt; , &lt;unk&gt; ein hd - video</td>\n",
              "      <td>&lt;unk&gt; &lt;unk&gt; &lt;unk&gt; zwei &lt;unk&gt; - &lt;unk&gt; , die ein &lt;unk&gt; - video &lt;unk&gt; &lt;unk&gt; . &lt;unk&gt; setzt auf &lt;unk&gt; &lt;unk&gt; : mit &lt;unk&gt; vr - &lt;unk&gt; &lt;unk&gt; vr war der &lt;unk&gt; konzern unter den &lt;unk&gt; &lt;unk&gt; in der sparte , &lt;unk&gt; will man mit einer vr - kamera punkten . die &lt;unk&gt; &lt;unk&gt; &lt;unk&gt; aus zwei &lt;unk&gt; - &lt;unk&gt; mit &lt;unk&gt; &lt;unk&gt; - &lt;unk&gt; , &lt;unk&gt; ein hd - video von</td>\n",
              "    </tr>\n",
              "    <tr>\n",
              "      <th>1</th>\n",
              "      <td>&lt;unk&gt; pass &lt;unk&gt; tor vor . erst später &lt;unk&gt; der von &lt;unk&gt; &lt;unk&gt; auf st . louis - &lt;unk&gt; &lt;unk&gt; allen &lt;unk&gt; und von dort ins tor &lt;unk&gt; &lt;unk&gt; &lt;unk&gt; und nicht &lt;unk&gt; &lt;unk&gt; . für den &lt;unk&gt; &lt;unk&gt; &lt;unk&gt; es sein &lt;unk&gt; . &lt;unk&gt; in der &lt;unk&gt; &lt;unk&gt; . das ist &lt;unk&gt; , &lt;unk&gt; &lt;unk&gt; nach dem spiel . es ist sein &lt;unk&gt; &lt;unk&gt; ( &lt;unk&gt; tor ) zu gehen .</td>\n",
              "      <td>pass &lt;unk&gt; tor vor . erst später &lt;unk&gt; der von &lt;unk&gt; &lt;unk&gt; auf st . louis - &lt;unk&gt; &lt;unk&gt; allen &lt;unk&gt; und von dort ins tor &lt;unk&gt; &lt;unk&gt; &lt;unk&gt; und nicht &lt;unk&gt; &lt;unk&gt; . für den &lt;unk&gt; &lt;unk&gt; &lt;unk&gt; es sein &lt;unk&gt; . &lt;unk&gt; in der &lt;unk&gt; &lt;unk&gt; . das ist &lt;unk&gt; , &lt;unk&gt; &lt;unk&gt; nach dem spiel . es ist sein &lt;unk&gt; &lt;unk&gt; ( &lt;unk&gt; tor ) zu gehen . es</td>\n",
              "    </tr>\n",
              "  </tbody>\n",
              "</table>"
            ],
            "text/plain": [
              "<IPython.core.display.HTML object>"
            ]
          },
          "metadata": {
            "tags": []
          }
        }
      ]
    },
    {
      "cell_type": "markdown",
      "metadata": {
        "id": "boRIcjPXrzDn"
      },
      "source": [
        "Update _awd_lstm_lm_config_ to match input dimension and load pre-trained language model."
      ]
    },
    {
      "cell_type": "code",
      "metadata": {
        "colab": {
          "base_uri": "https://localhost:8080/"
        },
        "id": "ZsTlUkVcYfHW",
        "outputId": "bab4169c-c030-4fcd-88b4-f917b4cac7fd"
      },
      "source": [
        "# learn_lm = language_model_learner(data_lm, AWD_LSTM, drop_mult=0.5)\n",
        "# learn_lm.load('/mnt/data/group07/johannes/germanlm/exp_10/models/2019_ 4_14_20_48_17_552279')\n",
        "\n",
        "config = awd_lstm_lm_config.copy()\n",
        "config['n_hid'] = 1150\n",
        "learn_lm = language_model_learner(dls_lm, AWD_LSTM, drop_mult=0.5, \n",
        "                                  pretrained=False, config=config,\n",
        "                                metrics=[accuracy, Perplexity()]).to_fp16()\n",
        "\n",
        "learn_lm.load('ulmfit_for_german_jfilter')"
      ],
      "execution_count": 12,
      "outputs": [
        {
          "output_type": "execute_result",
          "data": {
            "text/plain": [
              "<fastai.text.learner.LMLearner at 0x7ff7d49d2438>"
            ]
          },
          "metadata": {
            "tags": []
          },
          "execution_count": 12
        }
      ]
    },
    {
      "cell_type": "code",
      "metadata": {
        "colab": {
          "base_uri": "https://localhost:8080/",
          "height": 80
        },
        "id": "1zuG_b54bBX0",
        "outputId": "0afc65f8-fb26-4eac-f2e2-a7c4afc5e038"
      },
      "source": [
        "learn_lm.fit_one_cycle(1, 2e-2)"
      ],
      "execution_count": 13,
      "outputs": [
        {
          "output_type": "display_data",
          "data": {
            "text/html": [
              "<table border=\"1\" class=\"dataframe\">\n",
              "  <thead>\n",
              "    <tr style=\"text-align: left;\">\n",
              "      <th>epoch</th>\n",
              "      <th>train_loss</th>\n",
              "      <th>valid_loss</th>\n",
              "      <th>accuracy</th>\n",
              "      <th>perplexity</th>\n",
              "      <th>time</th>\n",
              "    </tr>\n",
              "  </thead>\n",
              "  <tbody>\n",
              "    <tr>\n",
              "      <td>0</td>\n",
              "      <td>2.956040</td>\n",
              "      <td>2.852034</td>\n",
              "      <td>0.440149</td>\n",
              "      <td>17.322987</td>\n",
              "      <td>12:36</td>\n",
              "    </tr>\n",
              "  </tbody>\n",
              "</table>"
            ],
            "text/plain": [
              "<IPython.core.display.HTML object>"
            ]
          },
          "metadata": {
            "tags": []
          }
        }
      ]
    },
    {
      "cell_type": "code",
      "metadata": {
        "colab": {
          "base_uri": "https://localhost:8080/",
          "height": 374
        },
        "id": "UFE0jkp8bEHU",
        "outputId": "3e3e8171-7f95-42de-9434-fbc9036cd4d6"
      },
      "source": [
        "learn_lm.unfreeze()\n",
        "learn_lm.fit_one_cycle(10, 1e-3)"
      ],
      "execution_count": null,
      "outputs": [
        {
          "output_type": "display_data",
          "data": {
            "text/html": [
              "\n",
              "    <div>\n",
              "        <style>\n",
              "            /* Turns off some styling */\n",
              "            progress {\n",
              "                /* gets rid of default border in Firefox and Opera. */\n",
              "                border: none;\n",
              "                /* Needs to be in here for Safari polyfill so background images work as expected. */\n",
              "                background-size: auto;\n",
              "            }\n",
              "            .progress-bar-interrupted, .progress-bar-interrupted::-webkit-progress-bar {\n",
              "                background: #F44336;\n",
              "            }\n",
              "        </style>\n",
              "      <progress value='9' class='' max='10' style='width:300px; height:20px; vertical-align: middle;'></progress>\n",
              "      90.00% [9/10 1:53:23<12:35]\n",
              "    </div>\n",
              "    \n",
              "<table border=\"1\" class=\"dataframe\">\n",
              "  <thead>\n",
              "    <tr style=\"text-align: left;\">\n",
              "      <th>epoch</th>\n",
              "      <th>train_loss</th>\n",
              "      <th>valid_loss</th>\n",
              "      <th>accuracy</th>\n",
              "      <th>perplexity</th>\n",
              "      <th>time</th>\n",
              "    </tr>\n",
              "  </thead>\n",
              "  <tbody>\n",
              "    <tr>\n",
              "      <td>0</td>\n",
              "      <td>2.891137</td>\n",
              "      <td>2.840487</td>\n",
              "      <td>0.441000</td>\n",
              "      <td>17.124096</td>\n",
              "      <td>12:36</td>\n",
              "    </tr>\n",
              "    <tr>\n",
              "      <td>1</td>\n",
              "      <td>2.868683</td>\n",
              "      <td>2.821079</td>\n",
              "      <td>0.442335</td>\n",
              "      <td>16.794971</td>\n",
              "      <td>12:35</td>\n",
              "    </tr>\n",
              "    <tr>\n",
              "      <td>2</td>\n",
              "      <td>2.849156</td>\n",
              "      <td>2.801455</td>\n",
              "      <td>0.443946</td>\n",
              "      <td>16.468596</td>\n",
              "      <td>12:34</td>\n",
              "    </tr>\n",
              "    <tr>\n",
              "      <td>3</td>\n",
              "      <td>2.819621</td>\n",
              "      <td>2.785388</td>\n",
              "      <td>0.445376</td>\n",
              "      <td>16.206112</td>\n",
              "      <td>12:34</td>\n",
              "    </tr>\n",
              "    <tr>\n",
              "      <td>4</td>\n",
              "      <td>2.806046</td>\n",
              "      <td>2.772561</td>\n",
              "      <td>0.446450</td>\n",
              "      <td>15.999561</td>\n",
              "      <td>12:35</td>\n",
              "    </tr>\n",
              "    <tr>\n",
              "      <td>5</td>\n",
              "      <td>2.778134</td>\n",
              "      <td>2.764056</td>\n",
              "      <td>0.447683</td>\n",
              "      <td>15.864064</td>\n",
              "      <td>12:36</td>\n",
              "    </tr>\n",
              "    <tr>\n",
              "      <td>6</td>\n",
              "      <td>2.777427</td>\n",
              "      <td>2.757583</td>\n",
              "      <td>0.448256</td>\n",
              "      <td>15.761706</td>\n",
              "      <td>12:36</td>\n",
              "    </tr>\n",
              "    <tr>\n",
              "      <td>7</td>\n",
              "      <td>2.746591</td>\n",
              "      <td>2.753757</td>\n",
              "      <td>0.448711</td>\n",
              "      <td>15.701508</td>\n",
              "      <td>12:37</td>\n",
              "    </tr>\n",
              "    <tr>\n",
              "      <td>8</td>\n",
              "      <td>2.743471</td>\n",
              "      <td>2.752556</td>\n",
              "      <td>0.448599</td>\n",
              "      <td>15.682659</td>\n",
              "      <td>12:37</td>\n",
              "    </tr>\n",
              "  </tbody>\n",
              "</table><p>\n",
              "\n",
              "    <div>\n",
              "        <style>\n",
              "            /* Turns off some styling */\n",
              "            progress {\n",
              "                /* gets rid of default border in Firefox and Opera. */\n",
              "                border: none;\n",
              "                /* Needs to be in here for Safari polyfill so background images work as expected. */\n",
              "                background-size: auto;\n",
              "            }\n",
              "            .progress-bar-interrupted, .progress-bar-interrupted::-webkit-progress-bar {\n",
              "                background: #F44336;\n",
              "            }\n",
              "        </style>\n",
              "      <progress value='756' class='' max='784' style='width:300px; height:20px; vertical-align: middle;'></progress>\n",
              "      96.43% [756/784 11:41<00:25 2.7266]\n",
              "    </div>\n",
              "    "
            ],
            "text/plain": [
              "<IPython.core.display.HTML object>"
            ]
          },
          "metadata": {
            "tags": []
          }
        }
      ]
    },
    {
      "cell_type": "markdown",
      "metadata": {
        "id": "ypEiuLUAsKyj"
      },
      "source": [
        "Save the language model"
      ]
    },
    {
      "cell_type": "code",
      "metadata": {
        "id": "a2D0zXFIb5Pb"
      },
      "source": [
        "learn_lm.save_encoder('german_lm_finetuned')"
      ],
      "execution_count": null,
      "outputs": []
    },
    {
      "cell_type": "markdown",
      "metadata": {
        "id": "PKUOb9S_srRb"
      },
      "source": [
        "## Text Classification"
      ]
    },
    {
      "cell_type": "markdown",
      "metadata": {
        "id": "wTSgAeAKsuda"
      },
      "source": [
        "Create data block for text classification using langauge model data loader vocabulary"
      ]
    },
    {
      "cell_type": "code",
      "metadata": {
        "id": "gexyDkpdFmrN"
      },
      "source": [
        "# Note the use of the langauge model vocab in the data block\n",
        "data_clas = DataBlock(\n",
        "    blocks=(TextBlock.from_df('text',vocab=dls_lm.vocab), CategoryBlock),\n",
        "    get_x=ColReader('text'), get_y=ColReader('label'), splitter=ColSplitter())\n",
        "\n",
        "dls_clas = data_clas.dataloaders(df_train_valid,valid_col='is_valid',\n",
        "                                      seed=1, shuffle_train=True) \n",
        "\n",
        "dls_clas.show_batch(max_n=3)"
      ],
      "execution_count": null,
      "outputs": []
    },
    {
      "cell_type": "markdown",
      "metadata": {
        "id": "YCzlh7-OtJc_"
      },
      "source": [
        "Update config for _awd_lstm_clas_config_ to align with input dimension"
      ]
    },
    {
      "cell_type": "code",
      "metadata": {
        "id": "12-RLEqeGdDn"
      },
      "source": [
        "fscore = F1Score(average='weighted')\n",
        "#ls_func = CrossEntropyLossFlat()\n",
        "#random_seed(32, True)\n",
        "cls_config = awd_lstm_clas_config.copy()\n",
        "cls_config['n_hid'] = 1150\n",
        "learn_cls = text_classifier_learner(dls_clas, AWD_LSTM, drop_mult=0.5, \n",
        "                                #loss_func = ls_func,\n",
        "                                pretrained=False, config=cls_config,\n",
        "                                metrics=[accuracy,fscore]).to_fp16()"
      ],
      "execution_count": null,
      "outputs": []
    },
    {
      "cell_type": "markdown",
      "metadata": {
        "id": "P9E22LqLt7zA"
      },
      "source": [
        "Load the fine tuned language model"
      ]
    },
    {
      "cell_type": "code",
      "metadata": {
        "id": "8_f6BDUnGjiV"
      },
      "source": [
        "learn_cls = learn_cls.load_encoder('german_lm_finetuned')"
      ],
      "execution_count": null,
      "outputs": []
    },
    {
      "cell_type": "markdown",
      "metadata": {
        "id": "gLYo017DuNH9"
      },
      "source": [
        "Find optimum learning rate"
      ]
    },
    {
      "cell_type": "code",
      "metadata": {
        "id": "FvdmAUnhKnKq"
      },
      "source": [
        "learn_cls.lr_find()"
      ],
      "execution_count": null,
      "outputs": []
    },
    {
      "cell_type": "markdown",
      "metadata": {
        "id": "NnE-MCCxvpjB"
      },
      "source": [
        "train the model"
      ]
    },
    {
      "cell_type": "code",
      "metadata": {
        "id": "fIVy8wOuGupv"
      },
      "source": [
        "learn_cls.fit_one_cycle(1, 2e-2)"
      ],
      "execution_count": null,
      "outputs": []
    },
    {
      "cell_type": "code",
      "metadata": {
        "id": "eSPrU9-yGzk8"
      },
      "source": [
        "learn_cls.freeze_to(-2)\n",
        "learn_cls.fit_one_cycle(1, slice(1e-2/(2.6**4),1e-2))"
      ],
      "execution_count": null,
      "outputs": []
    },
    {
      "cell_type": "code",
      "metadata": {
        "id": "Dq0DF1_nG1og"
      },
      "source": [
        "learn_cls.freeze_to(-3)\n",
        "learn_cls.fit_one_cycle(1, slice(5e-3/(2.6**4),5e-3))"
      ],
      "execution_count": null,
      "outputs": []
    },
    {
      "cell_type": "code",
      "metadata": {
        "id": "5ET9Yj8UG3pg"
      },
      "source": [
        "learn_cls.unfreeze()\n",
        "learn_cls.fit_one_cycle(2, slice(1e-3/(2.6**4),1e-3))"
      ],
      "execution_count": null,
      "outputs": []
    },
    {
      "cell_type": "markdown",
      "metadata": {
        "id": "lDKh338jvtug"
      },
      "source": [
        "## Classification performance on test data"
      ]
    },
    {
      "cell_type": "code",
      "metadata": {
        "id": "aBgHXZooKJC_"
      },
      "source": [
        "from sklearn.metrics import classification_report"
      ],
      "execution_count": null,
      "outputs": []
    },
    {
      "cell_type": "code",
      "metadata": {
        "id": "KbrFevBsKJvT"
      },
      "source": [
        "act_class = [str(c) for c in df_test.label.values]\n",
        "len(np.unique(act_class))"
      ],
      "execution_count": null,
      "outputs": []
    },
    {
      "cell_type": "markdown",
      "metadata": {
        "id": "w4h-BYVsv2Gp"
      },
      "source": [
        "Run prediction using trained model"
      ]
    },
    {
      "cell_type": "code",
      "metadata": {
        "id": "DxSl4A7iG6DB"
      },
      "source": [
        "predict_df_lm = df_test.text.apply(learn_cls.predict)\n",
        "#predict_df.head()\n",
        "predict_df_class_lm = [x[0] for x in predict_df_lm.values]\n",
        "predict_df_prob_lm = [max(x[2].tolist()) for x in predict_df_lm.values]\n",
        "print(predict_df_class_lm[:10])\n",
        "print(predict_df_prob_lm[:10])"
      ],
      "execution_count": null,
      "outputs": []
    },
    {
      "cell_type": "markdown",
      "metadata": {
        "id": "QshaRQSTv7NK"
      },
      "source": [
        "### Classification perforamce report"
      ]
    },
    {
      "cell_type": "code",
      "metadata": {
        "id": "Lh-5-nRWHABL"
      },
      "source": [
        "print(classification_report(act_class, predict_df_class_lm))"
      ],
      "execution_count": null,
      "outputs": []
    }
  ]
}